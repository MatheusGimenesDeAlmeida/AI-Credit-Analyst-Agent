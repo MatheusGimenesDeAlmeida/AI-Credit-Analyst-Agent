{
 "cells": [
  {
   "cell_type": "markdown",
   "id": "c251a014",
   "metadata": {},
   "source": [
    "# Teste 2 Market Sizing"
   ]
  },
  {
   "cell_type": "markdown",
   "id": "e04846cd",
   "metadata": {},
   "source": [
    "### Utilizando LLM para ler um demonstrativo financeiro de uma empresa e identificar o PDD "
   ]
  },
  {
   "cell_type": "code",
   "execution_count": 1,
   "id": "2004d6cf",
   "metadata": {},
   "outputs": [],
   "source": [
    "import os\n",
    "import glob\n",
    "from dotenv import load_dotenv\n",
    "from IPython.display import Markdown, display\n",
    "\n"
   ]
  },
  {
   "cell_type": "code",
   "execution_count": 2,
   "id": "037f8b90",
   "metadata": {},
   "outputs": [],
   "source": [
    "from langchain_community.document_loaders import PyPDFLoader\n",
    "\n",
    "loader = PyPDFLoader(\"demonstrativos/BTG.pdf\")\n",
    "pages = loader.load()\n",
    "\n",
    "# cada página é um \"Document\"\n",
    "docs = [p.page_content for p in pages]\n"
   ]
  },
  {
   "cell_type": "code",
   "execution_count": 4,
   "id": "00e9cffe",
   "metadata": {},
   "outputs": [
    {
     "name": "stdout",
     "output_type": "stream",
     "text": [
      "Total de páginas extraídas: 62\n",
      "\n",
      "--- Página 9 ---\n",
      "17 \n",
      "Demonstrações Financeiras Completas \n",
      "Banco BTG Pactual S.A. \n",
      "Demonstração dos fluxos de caixa \n",
      "Semestre e exercícios findos em 31 de dezembro \n",
      "(Em milhares de reais)  \n",
      "Banco Consolidado \n",
      "Nota 31/12/2024 31/12/2023 31/12/2024 31/12/2023 \n",
      "2º semestre Exercício Exercício Exercício Exercício \n",
      "Atividades operacionais \n",
      "Lucro líquido do semestre /  exercício  6.192.330 11.789.387 9.924.566 11.789.387 9.924.566 \n",
      "Ajustes ao lucro líquido (3.634.879) (6.433.844) (2.117.029) 7.009.712 4.053.731 \n",
      "Resultado de participações em controladas, coligadas e controladas em conjunto  13 (4.751.673) (8.387.822) (4.985.150) (1.390.483) (1.041.735) \n",
      "Despesas de juros com dívidas subordinadas e instrumentos de dívida elegíveis a capital  1.279.221 2.266.667 1.519.826 2.334.071 1.579.920 \n",
      "Provisão / (reversão) para perdas esperadas associadas ao risco de crédito  10 (987.822) (972.142) 159.648 2.844.319 2.410.322 \n",
      "Provisão para garantias financeiras prestadas  78.299 212.271 179.872 250.712 190.700 \n",
      "Provisão / (reversão) para passivos contingentes  17 135.593 187.004 99.687 1.009.737 369.902 \n",
      "Variação cambial do permanente  - - - 122.145 (166) \n",
      "Variação cambial sobre caixa e equivalentes de caixa  639.732 373.895 101.835 373.895 101.835 \n",
      "Ativo fiscal diferido 18 (191.171) (457.716) 406.582 337.187 (547.507) \n",
      "Depreciações e amortizações 21 / 22 162.942 343.999 400.671 1.128.129 990.460 \n",
      "Lucro líquido ajustado do semestre / exercício  2.557.451 5.355.543 7.807.537 18.799.099 13.978.297 \n",
      "Atividades operacionais \n",
      "Aplicações interfinanceiras de liquidez  (8.574.220) (10.550.798) (1.947.416) 1.253.842 (2.497.976) \n",
      "Títulos e valores mobiliários e instrumentos financeiros derivativos  51.206.754 7.527.846 (61.211.005) (18.785.682) (50.502.775) \n",
      "Operações de créditos (8.448.201) (13.741.434) 6.855.966 (36.295.836) (10.289.051) \n",
      "Outros créditos e outros valores e bens (39.242.907) (57.626.888) 30.991.511 (65.034.768) 25.577.164 \n",
      "Relações interfinanceiras 4.306.585 591.256 (778.030) (8.108.462) (13\n"
     ]
    }
   ],
   "source": [
    "print(f\"Total de páginas extraídas: {len(pages)}\")\n",
    "\n",
    "pagina_18 = pages[17]  # índice 17 corresponde à página 18\n",
    "print(\"\\n--- Página 9 ---\")\n",
    "print(pagina_18.page_content[:2000])  # mostra até 2000 caracteres\n",
    "\n",
    "\n"
   ]
  },
  {
   "cell_type": "code",
   "execution_count": 5,
   "id": "8ac77618",
   "metadata": {},
   "outputs": [],
   "source": [
    "# # Filtra apenas os elementos do tipo ListItem\n",
    "# list_items = [e for e in elementos if e.category == \"ListItem\"]\n",
    "\n",
    "# print(f\"Total de ListItem encontrados: {len(list_items)}\")\n",
    "\n",
    "# # Pega os 5 primeiros\n",
    "# for i, e in enumerate(list_items[:5], 1):\n",
    "#     print(f\"\\n--- ListItem {i} ---\")\n",
    "#     print(str(e))\n",
    "\n"
   ]
  },
  {
   "cell_type": "markdown",
   "id": "8596e438",
   "metadata": {},
   "source": [
    "### Vetorizando a base de dados "
   ]
  },
  {
   "cell_type": "code",
   "execution_count": 6,
   "id": "998e02a1",
   "metadata": {},
   "outputs": [
    {
     "name": "stdout",
     "output_type": "stream",
     "text": [
      "Total de blocos extraídos: 62\n",
      "Demonstrações Financeiras Completas \n",
      "Banco BTG Pactual S.A. e Controladas \n",
      "Dezembro 2024\n",
      "Total de chunks: 518\n",
      "Demonstrações Financeiras Completas \n",
      "Banco BTG Pactual S.A. e Controladas \n",
      "Dezembro 2024\n",
      "www.pwc.com.br \n",
      "Banco BTG \n",
      "Pactual S.A. \n",
      "Demonstrações financeiras\n",
      "individuais e consolidadas em \n",
      "31 de dezembro de 2024\n",
      "e relatório do auditor independente\n",
      "PricewaterhouseCoopers Auditores Independentes Ltda., \n"
     ]
    }
   ],
   "source": [
    "from langchain_text_splitters import RecursiveCharacterTextSplitter\n",
    "\n",
    "# Se você carregou com PyPDFLoader, já tem docs:\n",
    "# docs = [p.page_content for p in pages]\n",
    "\n",
    "print(f\"Total de blocos extraídos: {len(docs)}\")\n",
    "print(docs[0][:300])  # exemplo do primeiro\n",
    "\n",
    "# Criando chunks\n",
    "text_splitter = RecursiveCharacterTextSplitter(\n",
    "    chunk_size=500,   # tamanho máximo de cada pedaço\n",
    "    chunk_overlap=20  # sobreposição para manter contexto\n",
    ")\n",
    "\n",
    "chunks = text_splitter.split_text(\"\\n\".join(docs))\n",
    "\n",
    "print(f\"Total de chunks: {len(chunks)}\")\n",
    "print(chunks[0][:300])\n"
   ]
  },
  {
   "cell_type": "markdown",
   "id": "d80b3ffc",
   "metadata": {},
   "source": [
    "### Criando embeddings + Vector Store"
   ]
  },
  {
   "cell_type": "code",
   "execution_count": 7,
   "id": "affc5917",
   "metadata": {},
   "outputs": [
    {
     "name": "stdout",
     "output_type": "stream",
     "text": [
      "c:\\Users\\Matheus Almeida\\OneDrive\\Documentos\\Insper\\Estágio\\market_sizing\\venv\\Lib\\site-packages\\pinecone\\__init__.py\n"
     ]
    }
   ],
   "source": [
    "import pinecone\n",
    "print(pinecone.__file__)"
   ]
  },
  {
   "cell_type": "code",
   "execution_count": 8,
   "id": "fb6e631a",
   "metadata": {},
   "outputs": [
    {
     "name": "stderr",
     "output_type": "stream",
     "text": [
      "c:\\Users\\Matheus Almeida\\OneDrive\\Documentos\\Insper\\Estágio\\market_sizing\\venv\\Lib\\site-packages\\langchain_pinecone\\__init__.py:3: LangChainDeprecationWarning: As of langchain-core 0.3.0, LangChain uses pydantic v2 internally. The langchain_core.pydantic_v1 module was a compatibility shim for pydantic v1, and should no longer be used. Please update the code to import from Pydantic directly.\n",
      "\n",
      "For example, replace imports like: `from langchain_core.pydantic_v1 import BaseModel`\n",
      "with: `from pydantic import BaseModel`\n",
      "or the v1 compatibility namespace if you are working in a code base that has not been fully upgraded to pydantic 2 yet. \tfrom pydantic.v1 import BaseModel\n",
      "\n",
      "  from langchain_pinecone.vectorstores import Pinecone, PineconeVectorStore\n"
     ]
    },
    {
     "name": "stdout",
     "output_type": "stream",
     "text": [
      "Base vetorial criada no Pinecone com sucesso!\n"
     ]
    }
   ],
   "source": [
    "# Pinecone (SDK novo usa import do módulo inteiro)\n",
    "# LangChain + Pinecone + OpenAI\n",
    "from pinecone import Pinecone, ServerlessSpec\n",
    "from langchain_pinecone import PineconeVectorStore\n",
    "from langchain_openai import OpenAIEmbeddings, ChatOpenAI\n",
    "from langchain_community.document_loaders import DirectoryLoader\n",
    "from langchain_text_splitters import RecursiveCharacterTextSplitter\n",
    "from langchain.chains import RetrievalQA\n",
    "\n",
    "# Inicializa o cliente\n",
    "load_dotenv()\n",
    "\n",
    "openai_key = os.getenv(\"OPENAI_API_KEY\")\n",
    "embeddings = OpenAIEmbeddings(model=\"text-embedding-3-small\")\n",
    "\n",
    "pc = Pinecone(api_key=os.getenv(\"PINECONE_API_KEY\"))\n",
    "\n",
    "\n",
    "# Cria o índice (só precisa fazer 1 vez, se não existir ainda)\n",
    "index_name = \"meu-indice\"\n",
    "\n",
    "if index_name not in pc.list_indexes().names():\n",
    "    pc.create_index(\n",
    "        name=index_name,\n",
    "        dimension=1536,  # precisa bater com a dimensão do embedding\n",
    "        metric=\"cosine\",\n",
    "        spec=ServerlessSpec(cloud=\"aws\", region=\"us-east-1\")\n",
    "    )\n",
    "\n",
    "# Conecta ao índice\n",
    "index = pc.Index(index_name)\n",
    "\n",
    "# Carrega os chunks para o Pinecone\n",
    "vectorstore = PineconeVectorStore.from_texts(\n",
    "    texts=chunks,\n",
    "    embedding=embeddings,\n",
    "    index_name=index_name\n",
    ")\n",
    "\n",
    "\n",
    "print(\"Base vetorial criada no Pinecone com sucesso!\")\n"
   ]
  },
  {
   "cell_type": "code",
   "execution_count": null,
   "id": "8b4cef06",
   "metadata": {},
   "outputs": [
    {
     "name": "stderr",
     "output_type": "stream",
     "text": [
      "C:\\Users\\Matheus Almeida\\AppData\\Local\\Temp\\ipykernel_12528\\1440387344.py:6: LangChainDeprecationWarning: The method `BaseRetriever.get_relevant_documents` was deprecated in langchain-core 0.1.46 and will be removed in 1.0. Use :meth:`~invoke` instead.\n",
      "  docs = retriever.get_relevant_documents(query)\n"
     ]
    },
    {
     "name": "stdout",
     "output_type": "stream",
     "text": [
      "\n",
      "--- Trecho encontrado ---\n",
      "Provisão para perdas esperadas associadas ao risco de crédito 10 (1.393.068) (2.240.445) (5.139.334) (5.026.558) \n",
      "Outros créditos 89.455.797 33.137.180 119.200.605 55.507.058 \n",
      "Créditos por avais e fianças honrados 455.622 182.271 458.208 182.614 \n",
      "Carteira de câmbio 11 62.886.836 15.733.743 59.611.137 16.051.810 \n",
      "Rendas a receber 12 2.140.228 1.926.797 3.823.691 3.090.093 \n",
      "Diversos 12 20.274.348 11.945.987 46.712.222 28.341.600\n",
      "\n",
      "=== Contexto expandido ===\n"
     ]
    },
    {
     "data": {
      "text/markdown": [
       "Agrade\n",
       "cemos aos clientes e parceiros pelo suporte e pela confiança e, em especial aos nossos funcionários, por \n",
       "todo o empenho na busca pela excelência.\n",
       "11 \n",
       "Demonstrações Financeiras Completas \n",
       "Banco BTG Pactual S.A. \n",
       "Balanço patrimonial \n",
       "(Em milhares de reais)  \n",
       "Banco Consolidado \n",
       "Ativo Nota 31/12/2024 31/12/2023 31/12/2024 31/12/2023      \n",
       "Disponibilidades 6 1.166.017 1.323.966 4.614.304 2.439.095 \n",
       "Instrumentos financeiros 400.586.435 358.682.001 505.489.368 420.671.514\n",
       "Aplicações interfinanceiras de liquidez 7 116.842.450 76.709.394 99.782.456 73.564.489 \n",
       "Títulos e valores mobiliários 8 154.297.207 167.438.407 188.893.206 180.909.251 \n",
       "Instrumentos financeiros derivativos 9 43.074.698 40.746.460 26.111.074 19.983.627 \n",
       "Relações interfinanceiras 16.155.243 15.881.267 33.336.119 23.712.400 \n",
       "Operações de crédito 10 71.609.905 60.146.918 162.505.847 127.528.305\n",
       "Provisão para perdas esperadas associadas ao risco de crédito 10 (1.393.068) (2.240.445) (5.139.334) (5.026.558) \n",
       "Outros créditos 89.455.797 33.137.180 119.200.605 55.507.058 \n",
       "Créditos por avais e fianças honrados 455.622 182.271 458.208 182.614 \n",
       "Carteira de câmbio 11 62.886.836 15.733.743 59.611.137 16.051.810 \n",
       "Rendas a receber 12 2.140.228 1.926.797 3.823.691 3.090.093 \n",
       "Diversos 12 20.274.348 11.945.987 46.712.222 28.341.600\n",
       "Ativos fiscais diferidos 18 4.196.257 3.694.137 9.394.577 8.289.494 \n",
       "Provisão para redução ao valor recuperável de ativos (497.494) (345.755) (799.230) (448.553) \n",
       "Outros valores e bens 3.112.307 1.970.086 3.584.036 2.512.437 \n",
       "Despesas antecipadas 1.650.862 1.127.497 1.949.531 1.419.358 \n",
       "Demais 1.461.445 842.589 1.634.505 1.093.079 \n",
       "Permanente 65.260.243 47.134.904 13.953.493 12.102.745 \n",
       "Investimentos 64.693.604 46.471.872 9.148.255 7.346.744\n",
       "Participação em controladas, coligadas e empresas com controle compartilhado 13 64.692.374 46.470.642 9.132.044 7.278.897 \n",
       "Outros investimentos 1.230 1.230 16.211 67.847 \n",
       "Imobilizado de uso 14 198.445 188.275 647.908 515.092 \n",
       "Imóveis de uso 3.349 3.038 13.143 23.608 \n",
       "Outras imobilizações de uso 525.590 470.835 1.350.960 1.096.927 \n",
       "Depreciações acumuladas (330.494) (285.598) (716.195) (605.443) \n",
       "Intangível 14 368.194 474.757 4.157.330 4.240.909"
      ],
      "text/plain": [
       "<IPython.core.display.Markdown object>"
      ]
     },
     "metadata": {},
     "output_type": "display_data"
    }
   ],
   "source": [
    "# Criar retriever a partir do vectorstore\n",
    "retriever = vectorstore.as_retriever(search_kwargs={\"k\": 1})\n",
    "\n",
    "# Query\n",
    "query = \"Retorne a linha que aparece Provisão para perdas associadas ao risco de crédito\"\n",
    "docs = retriever.get_relevant_documents(query)\n",
    "\n",
    "# Mostrar os resultados encontrados\n",
    "for d in docs:\n",
    "    print(\"\\n--- Trecho encontrado ---\")\n",
    "    print(d.page_content)\n",
    "\n",
    "# Pegar o primeiro resultado para expandir contexto\n",
    "import difflib\n",
    "\n",
    "match = docs[0].page_content\n",
    "idx = difflib.get_close_matches(match, chunks, n=1)\n",
    "\n",
    "if idx:\n",
    "    i = chunks.index(idx[0])\n",
    "    contexto = chunks[max(0, i-2): i+3]  # 2 antes e 2 depois\n",
    "    print(\"\\n=== Contexto expandido ===\")\n",
    "    display(Markdown(\"\\n\".join(contexto)))\n",
    "else:\n",
    "    print(\"Nenhum chunk semelhante encontrado.\")\n",
    "\n",
    "# TO do\n",
    "\n",
    "# Retornar mais preciso -> chunk + contexto \n",
    "# Colocar índice em cada documento \n",
    "# Rodar localmente para os 5 e ver se o resultado é o esperado (Checar se o valor é o correto e da empresa correta)\n",
    "# Fazer o teste com mais arquivos 20/30/50 -> Agent Chat GPT OBS: 3 a 5 pdfs sem pdd ou empresas q nn façam sentido \n",
    "# Checar saldo x dre; checar números e unidades; chacar se as companhias estão certas;\n",
    "# Cronometrar tempo \n"
   ]
  },
  {
   "cell_type": "code",
   "execution_count": null,
   "id": "e330e426",
   "metadata": {},
   "outputs": [],
   "source": []
  }
 ],
 "metadata": {
  "kernelspec": {
   "display_name": "venv",
   "language": "python",
   "name": "python3"
  },
  "language_info": {
   "codemirror_mode": {
    "name": "ipython",
    "version": 3
   },
   "file_extension": ".py",
   "mimetype": "text/x-python",
   "name": "python",
   "nbconvert_exporter": "python",
   "pygments_lexer": "ipython3",
   "version": "3.12.3"
  }
 },
 "nbformat": 4,
 "nbformat_minor": 5
}
